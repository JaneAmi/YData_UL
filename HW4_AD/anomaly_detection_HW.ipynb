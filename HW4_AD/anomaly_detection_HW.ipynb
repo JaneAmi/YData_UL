{
 "cells": [
  {
   "cell_type": "markdown",
   "metadata": {},
   "source": [
    "# Anomaly Detection HW - (Un)supervised Learning\n",
    "#### Created by: Shaul Solomon\n",
    "\n",
    "In this homework, we will try to explore ways to explore a \"mostly\" unlabeled dataset *within* a larger problem space.\n",
    "\n",
    "### Motivation\n",
    "\n",
    "You are a new data scientist joining a DS team that has already been working on a classification problem for a few weeks.\n",
    "\n",
    "The dataset is coming from a field in which you have no background experience, and the other people on your team are worrisome of someone new joining their project.\n",
    "\n",
    "Here is what you know so far:\n",
    "1. The project is a classification problem to detect if a new instance belongs to one of 15 classes. However there is noise in the dataset and bad cases need to labeled and filtered out.\n",
    "2. The company found a dude on Fiverr who said he was a domain expert and would charge only 5 cents per label (though he would only accept it in Bitcoin). After the project was done, the DS team discovered there was noise in the labeling, but by that time, Mr. Fiverr skipped town, burnt his fingerprints, and apparently was starting a new EFT startup ([Jesus Toast NFT](https://opensea.io/assets/ethereum/0x495f947276749ce646f68ac8c248420045cb7b5e/29379836586482566762011168218144394594657388904534917765071502304442530660353))in the Bahamas.\n",
    "3. The company hired a Chilean startup to label the data, but it is very expensive and slow, and due to conflict in the region, the labeling has stopped. They have properly labeled all of the test data and around a quarter of the train dataset.\n",
    "4. Your DS Team spent a lot of work on the classification model, and don't want you to change anything at all.\n",
    "\n",
    "### Your Objective\n",
    "\n",
    "In this homework, you will try three different methods, supervised and unsupervised, to try and filter out noisy obs from the dataset, in order to improve the classification model (Evaluation Metric - weighted F1 score).\n",
    "\n",
    "You have been given clear instructions that you **can not**:\n",
    "1. Change the features in the dataset (no feature selection or feature engineering).\n",
    "2. Change anything w.r.t to the Classification model (RF Classifier) - not even the hyperparameters.\n",
    "\n",
    "Beyond the homework itself, try your hand to see how good you can get the model simply by filtering out noise (in a sandbox with all the noise filtered - the model can theoretically get up to a F1 score of 98%).\n",
    "\n",
    "Good Luck!"
   ]
  },
  {
   "cell_type": "markdown",
   "metadata": {},
   "source": [
    "### Imports"
   ]
  },
  {
   "cell_type": "code",
   "execution_count": 1,
   "metadata": {},
   "outputs": [],
   "source": [
    "import numpy as np\n",
    "import pandas as pd\n",
    "\n",
    "from sklearn.decomposition import PCA\n",
    "import matplotlib.pyplot as plt\n",
    "from sklearn.model_selection import train_test_split\n",
    "from sklearn.ensemble import RandomForestClassifier\n",
    "from sklearn.metrics import f1_score\n",
    "from sklearn.preprocessing import StandardScaler, MinMaxScaler\n",
    "\n",
    "from sklearn.neighbors import LocalOutlierFactor\n",
    "from sklearn.ensemble import IsolationForest\n",
    "from collections import Counter\n",
    "from sklearn.cluster import KMeans, DBSCAN"
   ]
  },
  {
   "cell_type": "code",
   "execution_count": null,
   "metadata": {},
   "outputs": [],
   "source": [
    "### Ignore all warnings - uncomment this out if you'd like not to see the warnings ###\n",
    "# import warnings\n",
    "# warnings.filterwarnings(action='ignore', category=UserWarning)"
   ]
  },
  {
   "cell_type": "markdown",
   "metadata": {},
   "source": [
    "### Immutable Code"
   ]
  },
  {
   "cell_type": "code",
   "execution_count": 2,
   "metadata": {},
   "outputs": [],
   "source": [
    "#### Immutable Code\n",
    "class RFModel_544():\n",
    "    def __init__(self, train_data, test_data, label = 'Class') -> None:\n",
    "        self.model = None\n",
    "        self.label = label\n",
    "\n",
    "        self.train_data = train_data.copy()\n",
    "        self.test_data = test_data.copy()\n",
    "\n",
    "        if 'Corrupted' in self.train_data.columns:\n",
    "            self.train_data = self.train_data.drop('Corrupted', axis=1)        \n",
    "\n",
    "    def fit(self):\n",
    "        y_train = self.train_data[self.label]\n",
    "        X_train = self.train_data.drop(self.label, axis=1)\n",
    "    \n",
    "        self.clf = RandomForestClassifier(random_state=44, n_estimators=5, max_depth=3)\n",
    "        self.clf.fit(X_train, y_train)\n",
    "        return self\n",
    "    \n",
    "    def predict(self):\n",
    "        X_test = self.test_data.drop(self.label, axis=1)\n",
    "        y_pred = self.clf.predict(X_test)\n",
    "        return y_pred\n",
    "    \n",
    "    def evaluate(self):\n",
    "        y_test = self.test_data[self.label].values\n",
    "        y_pred = self.predict()\n",
    "        f1 = f1_score(y_test, y_pred, average='weighted')\n",
    "        return f1"
   ]
  },
  {
   "cell_type": "code",
   "execution_count": 3,
   "metadata": {},
   "outputs": [],
   "source": [
    "def run_classification_544(train_data, test_data, label = 'Class', return_f1_score = False):\n",
    "    model = RFModel_544(train_data, test_data, label)\n",
    "    model.fit()\n",
    "    f1 = model.evaluate()\n",
    "    if return_f1_score:\n",
    "        return np.round(f1*100,2)\n",
    "    else:\n",
    "        print(f'F1 Score (weighted): {np.round(f1*100,2)}%')"
   ]
  },
  {
   "cell_type": "markdown",
   "metadata": {},
   "source": [
    "### Import Data"
   ]
  },
  {
   "cell_type": "code",
   "execution_count": 5,
   "metadata": {},
   "outputs": [],
   "source": [
    "train_data = pd.read_csv('ad_data/train_data.csv', index_col=0)\n",
    "test_data = pd.read_csv('ad_data/test_data.csv', index_col=0)"
   ]
  },
  {
   "cell_type": "code",
   "execution_count": 6,
   "metadata": {},
   "outputs": [
    {
     "data": {
      "text/html": [
       "<div>\n",
       "<style scoped>\n",
       "    .dataframe tbody tr th:only-of-type {\n",
       "        vertical-align: middle;\n",
       "    }\n",
       "\n",
       "    .dataframe tbody tr th {\n",
       "        vertical-align: top;\n",
       "    }\n",
       "\n",
       "    .dataframe thead th {\n",
       "        text-align: right;\n",
       "    }\n",
       "</style>\n",
       "<table border=\"1\" class=\"dataframe\">\n",
       "  <thead>\n",
       "    <tr style=\"text-align: right;\">\n",
       "      <th></th>\n",
       "      <th>Feature_1</th>\n",
       "      <th>Feature_2</th>\n",
       "      <th>Feature_3</th>\n",
       "      <th>Feature_4</th>\n",
       "      <th>Feature_5</th>\n",
       "      <th>Feature_6</th>\n",
       "      <th>Feature_7</th>\n",
       "      <th>Feature_8</th>\n",
       "      <th>Feature_9</th>\n",
       "      <th>Feature_10</th>\n",
       "      <th>...</th>\n",
       "      <th>Feature_18</th>\n",
       "      <th>Feature_19</th>\n",
       "      <th>Feature_20</th>\n",
       "      <th>Feature_21</th>\n",
       "      <th>Feature_22</th>\n",
       "      <th>Feature_23</th>\n",
       "      <th>Feature_24</th>\n",
       "      <th>Feature_25</th>\n",
       "      <th>Class</th>\n",
       "      <th>Corrupted</th>\n",
       "    </tr>\n",
       "  </thead>\n",
       "  <tbody>\n",
       "    <tr>\n",
       "      <th>0</th>\n",
       "      <td>-4.442740</td>\n",
       "      <td>3.509633</td>\n",
       "      <td>-2.595045</td>\n",
       "      <td>5.625753</td>\n",
       "      <td>5.241519</td>\n",
       "      <td>-3.391638</td>\n",
       "      <td>-0.161169</td>\n",
       "      <td>-2.479898</td>\n",
       "      <td>4.678951</td>\n",
       "      <td>-0.096087</td>\n",
       "      <td>...</td>\n",
       "      <td>-1.322623</td>\n",
       "      <td>4.709249</td>\n",
       "      <td>0.870410</td>\n",
       "      <td>1.292379</td>\n",
       "      <td>1.001019</td>\n",
       "      <td>2.828160</td>\n",
       "      <td>3.314469</td>\n",
       "      <td>-2.083216</td>\n",
       "      <td>8</td>\n",
       "      <td>NaN</td>\n",
       "    </tr>\n",
       "    <tr>\n",
       "      <th>1</th>\n",
       "      <td>-4.913701</td>\n",
       "      <td>-3.472922</td>\n",
       "      <td>-0.711968</td>\n",
       "      <td>3.605206</td>\n",
       "      <td>-2.977909</td>\n",
       "      <td>-2.479564</td>\n",
       "      <td>1.661866</td>\n",
       "      <td>5.808457</td>\n",
       "      <td>3.522298</td>\n",
       "      <td>-5.740412</td>\n",
       "      <td>...</td>\n",
       "      <td>-3.559130</td>\n",
       "      <td>5.701702</td>\n",
       "      <td>-6.776739</td>\n",
       "      <td>4.780978</td>\n",
       "      <td>0.958094</td>\n",
       "      <td>-2.798584</td>\n",
       "      <td>-1.367130</td>\n",
       "      <td>0.887345</td>\n",
       "      <td>9</td>\n",
       "      <td>NaN</td>\n",
       "    </tr>\n",
       "    <tr>\n",
       "      <th>2</th>\n",
       "      <td>0.745200</td>\n",
       "      <td>2.064658</td>\n",
       "      <td>1.635380</td>\n",
       "      <td>-2.599492</td>\n",
       "      <td>-5.820311</td>\n",
       "      <td>-5.141749</td>\n",
       "      <td>0.626823</td>\n",
       "      <td>-0.901922</td>\n",
       "      <td>3.417227</td>\n",
       "      <td>4.113865</td>\n",
       "      <td>...</td>\n",
       "      <td>4.756362</td>\n",
       "      <td>1.337834</td>\n",
       "      <td>3.691216</td>\n",
       "      <td>1.652381</td>\n",
       "      <td>-3.740889</td>\n",
       "      <td>-2.653817</td>\n",
       "      <td>-3.550755</td>\n",
       "      <td>-1.934451</td>\n",
       "      <td>1</td>\n",
       "      <td>NaN</td>\n",
       "    </tr>\n",
       "  </tbody>\n",
       "</table>\n",
       "<p>3 rows × 27 columns</p>\n",
       "</div>"
      ],
      "text/plain": [
       "   Feature_1  Feature_2  Feature_3  Feature_4  Feature_5  Feature_6  \\\n",
       "0  -4.442740   3.509633  -2.595045   5.625753   5.241519  -3.391638   \n",
       "1  -4.913701  -3.472922  -0.711968   3.605206  -2.977909  -2.479564   \n",
       "2   0.745200   2.064658   1.635380  -2.599492  -5.820311  -5.141749   \n",
       "\n",
       "   Feature_7  Feature_8  Feature_9  Feature_10  ...  Feature_18  Feature_19  \\\n",
       "0  -0.161169  -2.479898   4.678951   -0.096087  ...   -1.322623    4.709249   \n",
       "1   1.661866   5.808457   3.522298   -5.740412  ...   -3.559130    5.701702   \n",
       "2   0.626823  -0.901922   3.417227    4.113865  ...    4.756362    1.337834   \n",
       "\n",
       "   Feature_20  Feature_21  Feature_22  Feature_23  Feature_24  Feature_25  \\\n",
       "0    0.870410    1.292379    1.001019    2.828160    3.314469   -2.083216   \n",
       "1   -6.776739    4.780978    0.958094   -2.798584   -1.367130    0.887345   \n",
       "2    3.691216    1.652381   -3.740889   -2.653817   -3.550755   -1.934451   \n",
       "\n",
       "   Class  Corrupted  \n",
       "0      8        NaN  \n",
       "1      9        NaN  \n",
       "2      1        NaN  \n",
       "\n",
       "[3 rows x 27 columns]"
      ]
     },
     "execution_count": 6,
     "metadata": {},
     "output_type": "execute_result"
    }
   ],
   "source": [
    "train_data.head(3)"
   ]
  },
  {
   "cell_type": "markdown",
   "metadata": {},
   "source": [
    "### Step 0 - Establish Baseline"
   ]
  },
  {
   "cell_type": "code",
   "execution_count": 25,
   "metadata": {},
   "outputs": [
    {
     "data": {
      "text/plain": [
       "15"
      ]
     },
     "execution_count": 25,
     "metadata": {},
     "output_type": "execute_result"
    }
   ],
   "source": [
    "len(train_data['Class'].unique())"
   ]
  },
  {
   "cell_type": "code",
   "execution_count": 7,
   "metadata": {},
   "outputs": [
    {
     "name": "stdout",
     "output_type": "stream",
     "text": [
      "F1 Score (weighted): 88.3%\n"
     ]
    }
   ],
   "source": [
    "run_classification_544(train_data, test_data, label='Class')"
   ]
  },
  {
   "cell_type": "markdown",
   "metadata": {},
   "source": [
    "### Step 1 - EDA\n",
    "\n",
    "There are two questions here just to make sure you understand the particulars of this dataset, but we recommend you do as much EDA as you want/need."
   ]
  },
  {
   "cell_type": "markdown",
   "metadata": {},
   "source": [
    "#### Q1.1 (2 points):\n",
    "First, visualise the distribution of labels within train/test set. (it's about classes)\n",
    "1. Are there imbalances?\n",
    "2. Are there any labels that don't exist within the test set?"
   ]
  },
  {
   "cell_type": "code",
   "execution_count": 56,
   "metadata": {},
   "outputs": [
    {
     "data": {
      "image/png": "[encoded data removed]",
      "text/plain": [
       "<Figure size 1000x500 with 1 Axes>"
      ]
     },
     "metadata": {},
     "output_type": "display_data"
    }
   ],
   "source": [
    "plt.figure(figsize=(10,5))\n",
    "\n",
    "plt.bar(train_data['Class'].unique(), train_data['Class'].value_counts()/ train_data['Class'].count(), \\\n",
    "    align='edge', width=0.4, label='Train')\n",
    "plt.bar(test_data['Class'].unique(), test_data['Class'].value_counts()/ test_data['Class'].count(), \\\n",
    "    align='edge', width=-0.4, label='Test')\n",
    "\n",
    "plt.legend()\n",
    "plt.xticks(train_data['Class'].unique())\n",
    "plt.xlabel('Class')\n",
    "plt.title(\"Distribution of classes within train/test set\")\n",
    "plt.show()"
   ]
  },
  {
   "cell_type": "markdown",
   "metadata": {},
   "source": [
    "1. Classes aren't represented equally in the train and the test data set, but the imbalance doesn't seem crucial.\n",
    "2. All classes which are existed in the train data set are represented in the test data set."
   ]
  },
  {
   "cell_type": "code",
   "execution_count": 122,
   "metadata": {},
   "outputs": [
    {
     "name": "stdout",
     "output_type": "stream",
     "text": [
      "<class 'pandas.core.frame.DataFrame'>\n",
      "Index: 1523 entries, 0 to 1522\n",
      "Data columns (total 27 columns):\n",
      " #   Column      Non-Null Count  Dtype  \n",
      "---  ------      --------------  -----  \n",
      " 0   Feature_1   1523 non-null   float64\n",
      " 1   Feature_2   1523 non-null   float64\n",
      " 2   Feature_3   1523 non-null   float64\n",
      " 3   Feature_4   1523 non-null   float64\n",
      " 4   Feature_5   1523 non-null   float64\n",
      " 5   Feature_6   1523 non-null   float64\n",
      " 6   Feature_7   1523 non-null   float64\n",
      " 7   Feature_8   1523 non-null   float64\n",
      " 8   Feature_9   1523 non-null   float64\n",
      " 9   Feature_10  1523 non-null   float64\n",
      " 10  Feature_11  1523 non-null   float64\n",
      " 11  Feature_12  1523 non-null   float64\n",
      " 12  Feature_13  1523 non-null   float64\n",
      " 13  Feature_14  1523 non-null   float64\n",
      " 14  Feature_15  1523 non-null   float64\n",
      " 15  Feature_16  1523 non-null   float64\n",
      " 16  Feature_17  1523 non-null   float64\n",
      " 17  Feature_18  1523 non-null   float64\n",
      " 18  Feature_19  1523 non-null   float64\n",
      " 19  Feature_20  1523 non-null   float64\n",
      " 20  Feature_21  1523 non-null   float64\n",
      " 21  Feature_22  1523 non-null   float64\n",
      " 22  Feature_23  1523 non-null   float64\n",
      " 23  Feature_24  1523 non-null   float64\n",
      " 24  Feature_25  1523 non-null   float64\n",
      " 25  Class       1523 non-null   int64  \n",
      " 26  Corrupted   381 non-null    float64\n",
      "dtypes: float64(26), int64(1)\n",
      "memory usage: 333.2 KB\n"
     ]
    }
   ],
   "source": [
    "train_data.info()"
   ]
  },
  {
   "cell_type": "markdown",
   "metadata": {},
   "source": [
    "#### Q1.2 (2 points):\n",
    "Look at the labeled data within the train set: (it's about 'Corrupted')\n",
    "1. What percentage of the data has labels?\n",
    "2. How is it divided between classes?"
   ]
  },
  {
   "cell_type": "code",
   "execution_count": 119,
   "metadata": {},
   "outputs": [
    {
     "name": "stdout",
     "output_type": "stream",
     "text": [
      "The percentage of the data has labels: 25.02%\n"
     ]
    },
    {
     "data": {
      "image/png": "[encoded data removed]",
      "text/plain": [
       "<Figure size 600x400 with 1 Axes>"
      ]
     },
     "metadata": {},
     "output_type": "display_data"
    },
    {
     "name": "stdout",
     "output_type": "stream",
     "text": [
      "The maximum labeled values appears in 6 class and constitutes 33.73%\n",
      "The minimum labeled values appears in 4 class and constitutes 18.37%\n"
     ]
    }
   ],
   "source": [
    "### Insert Code Here\n",
    "# What percentage of the data has labels?\n",
    "print('The percentage of the data has labels:', \\\n",
    "    f\"{(train_data['Corrupted'].count() / len(train_data['Corrupted'])):.2%}\")\n",
    "\n",
    "# How it divided between classes?\n",
    "lb_class = train_data[~train_data['Corrupted'].isna()].groupby('Class')['Class'].count() / train_data.groupby('Class')['Class'].count()\n",
    "\n",
    "plt.figure(figsize=(6,4))\n",
    "\n",
    "plt.bar(train_data['Class'].unique(), lb_class)\n",
    "\n",
    "plt.xticks(train_data['Class'].unique())\n",
    "plt.xlabel('Class')\n",
    "plt.title(\"Distribution of Labeled Data Across Classes\")\n",
    "plt.show()\n",
    "\n",
    "print(f'The maximum labeled values appears in {np.argmax(lb_class)} class and constitutes {lb_class.max():.2%}')\n",
    "print(f'The minimum labeled values appears in {np.argmin(lb_class)} class and constitutes {lb_class.min():.2%}')"
   ]
  },
  {
   "cell_type": "markdown",
   "metadata": {},
   "source": [
    "#### Q1.3 (1 point):\n",
    "Can we assume that this sample labeled dataset represents the true ratio of corrupted/not_corrupted within the larger data - why or why not - explain?"
   ]
  },
  {
   "cell_type": "markdown",
   "metadata": {},
   "source": [
    "We discovered that only 25% of the entire dataset is labeled. This proportion is relatively small and may not accurately represents the true ratio of corrupted and non-corrupted data in the larger, unlabeled portion. Therefore we can not assume that this sample labeled dataset represents the true ratio."
   ]
  },
  {
   "cell_type": "markdown",
   "metadata": {},
   "source": [
    "### Step 2 - Supervised Learning"
   ]
  },
  {
   "cell_type": "markdown",
   "metadata": {},
   "source": [
    "Even though we only have a subset of the data that has labels, perhaps it is enough to train a classifier to be able to distinguish between normal/corrupt instances?"
   ]
  },
  {
   "cell_type": "markdown",
   "metadata": {},
   "source": [
    "#### Q2.1 (10 points)\n",
    "Run a Proof of Concept (POC) - take only the cases where the data is labeled, and run a simple classifier (similar to the 544): <br> `model = RandomForestClassifier(random_state=44, n_estimators=5, max_depth=3)\n",
    "` <br> see if we get a decent score on the classifier?"
   ]
  },
  {
   "cell_type": "code",
   "execution_count": null,
   "metadata": {},
   "outputs": [],
   "source": [
    "### Insert Code Here"
   ]
  },
  {
   "cell_type": "markdown",
   "metadata": {},
   "source": [
    "#### Q2.2 (15 Points)\n",
    "Now that you have (hopefully) proven the POC: <br>\n",
    "1. Retrain the classifier on all of the labeled data.\n",
    "2. Run it on the unlabeled data.\n",
    "3. See how it affects `run_classification_544` - you need to beat the baseline!"
   ]
  },
  {
   "cell_type": "code",
   "execution_count": null,
   "metadata": {},
   "outputs": [],
   "source": [
    "### Insert Code Here\n",
    "train_data_supervised = None"
   ]
  },
  {
   "cell_type": "code",
   "execution_count": null,
   "metadata": {},
   "outputs": [],
   "source": [
    "run_classification_544(train_data_supervised, test_data, label='Class')"
   ]
  },
  {
   "cell_type": "markdown",
   "metadata": {},
   "source": [
    "### Step 3 - Unsupervised method"
   ]
  },
  {
   "cell_type": "markdown",
   "metadata": {},
   "source": [
    "While the supervised method was nice, perhaps we can beat it with using *all* the data to train an unsupervised method.\n",
    "\n",
    "#### Q3.1 (10 points)\n",
    "Use either IsolationForest or LocalOutlierFactor (or both) and train the model to predict outliers. <br>\n",
    "The only hyper-parameter to play with at this stage is `contamination`. <br>\n",
    "1. What is your default value for contamination and defend your initial hypothesis.\n",
    "2. Look at the model's predictions - how much noise did it determine from the data? \n",
    "3. How well did the model do compared to the supervised/baseline? "
   ]
  },
  {
   "cell_type": "code",
   "execution_count": null,
   "metadata": {},
   "outputs": [],
   "source": [
    "contamination_amount = 0\n",
    "train_data_unsupervised = None"
   ]
  },
  {
   "cell_type": "code",
   "execution_count": null,
   "metadata": {},
   "outputs": [],
   "source": [
    "run_classification_544(train_data_unsupervised, test_data, label='Class')"
   ]
  },
  {
   "cell_type": "code",
   "execution_count": null,
   "metadata": {},
   "outputs": [],
   "source": [
    "### Insert Explanation Here"
   ]
  },
  {
   "cell_type": "markdown",
   "metadata": {},
   "source": [
    "#### Q3.2 (15 points)\n",
    "1. Iterate through various contamination levels - `np.linspace(0.05, 0.5, 10)` and plot the lineplot of the f1_score.\n",
    "2. Explain the lineplot that you see - does it give you confidence?\n",
    "3. Which contamination gave the best results - explain possibly why? "
   ]
  },
  {
   "cell_type": "code",
   "execution_count": null,
   "metadata": {},
   "outputs": [],
   "source": [
    "train_data_unsupervised_best = None"
   ]
  },
  {
   "cell_type": "code",
   "execution_count": null,
   "metadata": {},
   "outputs": [],
   "source": [
    "dict_f1 = {}\n",
    "for contamination_amnt in np.linspace(0.05, 0.5, 10):\n",
    "    pass\n",
    "\n",
    "### Get max F1 Score\n",
    "max_f1 = max(dict_f1.values())\n",
    "max_f1_contamination = [k for k, v in dict_f1.items() if v == max_f1][0]\n",
    "print(f'Max F1 Score: {max_f1}% - Contamination: {max_f1_contamination}')"
   ]
  },
  {
   "cell_type": "code",
   "execution_count": null,
   "metadata": {},
   "outputs": [],
   "source": [
    "### elbow method\n",
    "plt.plot(list(dict_f1.keys()), list(dict_f1.values()));"
   ]
  },
  {
   "cell_type": "code",
   "execution_count": null,
   "metadata": {},
   "outputs": [],
   "source": [
    "run_classification_544(train_data_unsupervised_best, test_data, label='Class')"
   ]
  },
  {
   "cell_type": "markdown",
   "metadata": {},
   "source": [
    "I expected the unsupervised to do better.\n",
    "Perhaps what we should of done from the get-go is to visualise the data, both how the classes are spread out and their respective noise.\n",
    "\n",
    "### Step 4 - Dimensionality Reduction (PCA)\n",
    "#### Q4 (10 points)\n",
    "1. Use PCA to visualise each of the data points and their respective.\n",
    "2. What insight do we learn from the data that we can use to improve our models?"
   ]
  },
  {
   "cell_type": "code",
   "execution_count": null,
   "metadata": {},
   "outputs": [],
   "source": [
    "def vis_PCA(df, label, shape):\n",
    "    ### I recommend using plotly.express for this visualization\n",
    "    pass\n",
    "\n",
    "### Insert Code Here"
   ]
  },
  {
   "cell_type": "code",
   "execution_count": null,
   "metadata": {},
   "outputs": [],
   "source": [
    "#### Insert Explanation Here"
   ]
  },
  {
   "cell_type": "markdown",
   "metadata": {},
   "source": [
    "### Step 5 - Clustering per Class\n",
    "\n",
    "Another classic method for anomaly detection is by looking at each class individually, using clustering methodologies (KMeans, KNN, DBScan, etc.) to determine what is the normal data and what is noise.\n",
    "#### Q5.1 (15 points)\n",
    "Train a simple KNN/Kmeans/DBscan that just determines for each class in and out class\n",
    "\n",
    "#### Q5.2 (10 points) \n",
    "For whichever model you used, use the labeled data to use reasonable hyperparameters."
   ]
  },
  {
   "cell_type": "code",
   "execution_count": null,
   "metadata": {},
   "outputs": [],
   "source": [
    "train_data_clustering = None\n",
    "\n",
    "### Insert Code Here"
   ]
  },
  {
   "cell_type": "code",
   "execution_count": null,
   "metadata": {},
   "outputs": [],
   "source": [
    "run_classification_544(train_data_clustering, test_data, label='Class')"
   ]
  },
  {
   "cell_type": "markdown",
   "metadata": {},
   "source": [
    "### Step 6 - Review"
   ]
  },
  {
   "cell_type": "markdown",
   "metadata": {},
   "source": [
    "#### Q6.1 (5 points)\n",
    "In this situation we knew that there was no noise in the test dataset - if we didn't know that - is there anything we would have done better? Explain?"
   ]
  },
  {
   "cell_type": "code",
   "execution_count": null,
   "metadata": {},
   "outputs": [],
   "source": [
    "### Insert Explanation Here"
   ]
  },
  {
   "cell_type": "markdown",
   "metadata": {},
   "source": [
    "#### Q6.2 (5 points)\n",
    "If we chose to go with the unsupervised methods, what benefit could the labeling that did do help us?"
   ]
  },
  {
   "cell_type": "code",
   "execution_count": null,
   "metadata": {},
   "outputs": [],
   "source": [
    "### Insert Explanation Here"
   ]
  },
  {
   "cell_type": "markdown",
   "metadata": {},
   "source": [
    "### BONUS - GO WILD (10 points)\n",
    "Choose any of the methods above and do what you go to do to get a weighted f1 score above 93%"
   ]
  },
  {
   "cell_type": "markdown",
   "metadata": {},
   "source": []
  }
 ],
 "metadata": {
  "kernelspec": {
   "display_name": "venv_dt",
   "language": "python",
   "name": "python3"
  },
  "language_info": {
   "codemirror_mode": {
    "name": "ipython",
    "version": 3
   },
   "file_extension": ".py",
   "mimetype": "text/x-python",
   "name": "python",
   "nbconvert_exporter": "python",
   "pygments_lexer": "ipython3",
   "version": "3.10.13"
  }
 },
 "nbformat": 4,
 "nbformat_minor": 2
}
